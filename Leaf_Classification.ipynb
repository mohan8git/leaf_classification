{
  "nbformat": 4,
  "nbformat_minor": 0,
  "metadata": {
    "colab": {
      "name": "Leaf Classification.ipynb",
      "provenance": [],
      "collapsed_sections": [],
      "toc_visible": true
    },
    "kernelspec": {
      "name": "python3",
      "display_name": "Python 3"
    },
    "accelerator": "GPU"
  },
  "cells": [
    {
      "cell_type": "code",
      "metadata": {
        "colab_type": "code",
        "id": "RWSJpsyKqHjH",
        "outputId": "f6ba63af-2780-494e-932f-503a35905ffb",
        "colab": {
          "base_uri": "https://localhost:8080/",
          "height": 122
        }
      },
      "source": [
        "from google.colab import drive\n",
        "drive.mount('/content/gdrive')"
      ],
      "execution_count": 0,
      "outputs": [
        {
          "output_type": "stream",
          "text": [
            "Go to this URL in a browser: https://accounts.google.com/o/oauth2/auth?client_id=947318989803-6bn6qk8qdgf4n4g3pfee6491hc0brc4i.apps.googleusercontent.com&redirect_uri=urn%3aietf%3awg%3aoauth%3a2.0%3aoob&response_type=code&scope=email%20https%3a%2f%2fwww.googleapis.com%2fauth%2fdocs.test%20https%3a%2f%2fwww.googleapis.com%2fauth%2fdrive%20https%3a%2f%2fwww.googleapis.com%2fauth%2fdrive.photos.readonly%20https%3a%2f%2fwww.googleapis.com%2fauth%2fpeopleapi.readonly\n",
            "\n",
            "Enter your authorization code:\n",
            "··········\n",
            "Mounted at /content/gdrive\n"
          ],
          "name": "stdout"
        }
      ]
    },
    {
      "cell_type": "code",
      "metadata": {
        "id": "0eNaydn5cD7b",
        "colab_type": "code",
        "colab": {}
      },
      "source": [
        "# !unzip -qq 'gdrive/My Drive/Colab Notebooks/Data/Plant Classification/Final Data.zip'"
      ],
      "execution_count": 0,
      "outputs": []
    },
    {
      "cell_type": "code",
      "metadata": {
        "id": "lhcEJ3LfagXF",
        "colab_type": "code",
        "outputId": "fee0128a-06f7-4101-9382-74917d0db267",
        "colab": {
          "base_uri": "https://localhost:8080/",
          "height": 34
        }
      },
      "source": [
        "import keras\n",
        "from keras.preprocessing.image import ImageDataGenerator\n",
        "import numpy as np\n",
        "import matplotlib.pyplot as plt\n",
        "from keras.models import Model, load_model\n",
        "from keras.layers import Activation, Dropout, Flatten, Dense\n",
        "from keras.preprocessing.image import ImageDataGenerator\n",
        "from keras.applications.vgg16 import VGG16\n",
        "from keras.optimizers import SGD"
      ],
      "execution_count": 0,
      "outputs": [
        {
          "output_type": "stream",
          "text": [
            "Using TensorFlow backend.\n"
          ],
          "name": "stderr"
        }
      ]
    },
    {
      "cell_type": "code",
      "metadata": {
        "id": "PnhP-BeQNBtE",
        "colab_type": "code",
        "outputId": "a4b78b84-ec5f-440a-8d5b-7a55e00fd07f",
        "colab": {
          "base_uri": "https://localhost:8080/",
          "height": 34
        }
      },
      "source": [
        "# train_path = \"Final Data/Test\"\n",
        "# test_path= \"Final Data/Validate\"\n",
        "!pwd"
      ],
      "execution_count": 0,
      "outputs": [
        {
          "output_type": "stream",
          "text": [
            "/content\n"
          ],
          "name": "stdout"
        }
      ]
    },
    {
      "cell_type": "code",
      "metadata": {
        "id": "TUZPCRJrm-k9",
        "colab_type": "code",
        "colab": {}
      },
      "source": [
        "train_path = \"gdrive/My Drive/GoogleColab/Project/Data/train\"\n",
        "test_path = \"gdrive/My Drive/GoogleColab/Project/Data/validation\"\n",
        "\n",
        "\n",
        "batch_size = 32\n",
        "image_size = 224\n",
        "num_class = 11\n",
        "# check_path = \"gdrive/My Drive/GoogleColab/Project/Data/Check\"\n",
        "\n"
      ],
      "execution_count": 0,
      "outputs": []
    },
    {
      "cell_type": "code",
      "metadata": {
        "id": "60lShHn4nyBn",
        "colab_type": "code",
        "outputId": "38dd1a7b-d733-4320-b890-db3adeb80968",
        "colab": {
          "base_uri": "https://localhost:8080/",
          "height": 173
        }
      },
      "source": [
        "#Load the VGG model\n",
        "base_model = VGG16(weights='imagenet', include_top=False, input_shape=(image_size, image_size, 3))\n",
        "\n",
        "##print(base_model.summary())\n",
        "\n",
        "    # Freeze the layers \n",
        "for layer in base_model.layers:\n",
        "    layer.trainable = False\n",
        " \n",
        "##Create the model\n",
        "model = keras.models.Sequential()\n",
        "\n",
        "# # Add the vgg convolutional base model\n",
        "model.add(base_model)\n",
        " \n",
        "# # Add new layers\n",
        "model.add(Flatten())\n",
        "model.add(Dense(1024, activation='relu'))\n",
        "model.add(Dropout(0.5))\n",
        "model.add(Dense(1024, activation='relu'))\n",
        "model.add(Dropout(0.5))\n",
        "model.add(Dense(num_class, activation='softmax'))\n",
        " \n",
        "# # Show a summary of the model. Check the number of trainable parameters    \n",
        "##print(model.summary())"
      ],
      "execution_count": 0,
      "outputs": [
        {
          "output_type": "stream",
          "text": [
            "WARNING:tensorflow:From /usr/local/lib/python3.6/dist-packages/tensorflow/python/framework/op_def_library.py:263: colocate_with (from tensorflow.python.framework.ops) is deprecated and will be removed in a future version.\n",
            "Instructions for updating:\n",
            "Colocations handled automatically by placer.\n",
            "Downloading data from https://github.com/fchollet/deep-learning-models/releases/download/v0.1/vgg16_weights_tf_dim_ordering_tf_kernels_notop.h5\n",
            "58892288/58889256 [==============================] - 3s 0us/step\n",
            "WARNING:tensorflow:From /usr/local/lib/python3.6/dist-packages/keras/backend/tensorflow_backend.py:3445: calling dropout (from tensorflow.python.ops.nn_ops) with keep_prob is deprecated and will be removed in a future version.\n",
            "Instructions for updating:\n",
            "Please use `rate` instead of `keep_prob`. Rate should be set to `rate = 1 - keep_prob`.\n"
          ],
          "name": "stdout"
        }
      ]
    },
    {
      "cell_type": "code",
      "metadata": {
        "id": "87vCGX896j2r",
        "colab_type": "code",
        "outputId": "6b427189-64ed-4ab9-e02a-5100a8a19e0f",
        "colab": {
          "base_uri": "https://localhost:8080/",
          "height": 51
        }
      },
      "source": [
        "# # Compile the model\n",
        "from keras.optimizers import SGD\n",
        "\n",
        "model.compile(loss='categorical_crossentropy',\n",
        "          optimizer=SGD(lr=1e-3),\n",
        "          metrics=['accuracy'])\n",
        "\n",
        "train_datagen = ImageDataGenerator(\n",
        "         zoom_range=0.2, # randomly zoom into images\n",
        "        rotation_range=10,  # randomly rotate images in the range (degrees, 0 to 180)\n",
        "        width_shift_range=0.1,  # randomly shift images horizontally (fraction of total width)\n",
        "        height_shift_range=0.1,  # randomly shift images vertically (fraction of total height)\n",
        "        horizontal_flip=True,  # randomly flip images\n",
        "        vertical_flip=False)  # randomly flip images\n",
        " \n",
        "validation_datagen = ImageDataGenerator()\n",
        "\n",
        "train_generator = train_datagen.flow_from_directory(\n",
        "        train_path,\n",
        "        target_size=(image_size, image_size),\n",
        "        batch_size=batch_size,\n",
        "        class_mode='categorical',\n",
        "         shuffle = True)\n",
        " \n",
        "validation_generator = validation_datagen.flow_from_directory(\n",
        "        test_path,\n",
        "        target_size=(image_size, image_size),\n",
        "        batch_size=batch_size,\n",
        "        class_mode='categorical',\n",
        "        shuffle=True)"
      ],
      "execution_count": 0,
      "outputs": [
        {
          "output_type": "stream",
          "text": [
            "Found 836 images belonging to 11 classes.\n",
            "Found 78 images belonging to 11 classes.\n"
          ],
          "name": "stdout"
        }
      ]
    },
    {
      "cell_type": "code",
      "metadata": {
        "id": "PpSzikaf9hH7",
        "colab_type": "code",
        "cellView": "both",
        "outputId": "1a68b21c-c3df-4232-a9aa-521f9154cd52",
        "colab": {
          "base_uri": "https://localhost:8080/",
          "height": 3488
        }
      },
      "source": [
        "# Train the model\n",
        "history = model.fit_generator(\n",
        "      train_generator,\n",
        "      steps_per_epoch=train_generator.samples/train_generator.batch_size ,\n",
        "      epochs=100,\n",
        "      validation_data= validation_generator,\n",
        "      validation_steps=validation_generator.samples/validation_generator.batch_size)\n",
        " \n",
        "# Save the model\n",
        "#model.save('small_last4.h5')"
      ],
      "execution_count": 0,
      "outputs": [
        {
          "output_type": "stream",
          "text": [
            "WARNING:tensorflow:From /usr/local/lib/python3.6/dist-packages/tensorflow/python/ops/math_ops.py:3066: to_int32 (from tensorflow.python.ops.math_ops) is deprecated and will be removed in a future version.\n",
            "Instructions for updating:\n",
            "Use tf.cast instead.\n",
            "Epoch 1/100\n",
            "27/26 [===============================] - 232s 9s/step - loss: 12.5580 - acc: 0.1194 - val_loss: 13.8049 - val_acc: 0.0897\n",
            "Epoch 2/100\n",
            "27/26 [===============================] - 191s 7s/step - loss: 11.6146 - acc: 0.1935 - val_loss: 11.9508 - val_acc: 0.1538\n",
            "Epoch 3/100\n",
            "27/26 [===============================] - 191s 7s/step - loss: 10.8756 - acc: 0.2376 - val_loss: 4.8688 - val_acc: 0.4872\n",
            "Epoch 4/100\n",
            "27/26 [===============================] - 191s 7s/step - loss: 9.8237 - acc: 0.3001 - val_loss: 6.0874 - val_acc: 0.5000\n",
            "Epoch 5/100\n",
            "27/26 [===============================] - 189s 7s/step - loss: 8.7187 - acc: 0.3479 - val_loss: 6.4094 - val_acc: 0.4744\n",
            "Epoch 6/100\n",
            "27/26 [===============================] - 190s 7s/step - loss: 8.6531 - acc: 0.3612 - val_loss: 5.0572 - val_acc: 0.5513\n",
            "Epoch 7/100\n",
            "27/26 [===============================] - 191s 7s/step - loss: 7.7019 - acc: 0.4079 - val_loss: 5.4664 - val_acc: 0.5513\n",
            "Epoch 8/100\n",
            "27/26 [===============================] - 191s 7s/step - loss: 7.2273 - acc: 0.4467 - val_loss: 4.4546 - val_acc: 0.6282\n",
            "Epoch 9/100\n",
            "27/26 [===============================] - 191s 7s/step - loss: 7.1958 - acc: 0.4432 - val_loss: 3.9830 - val_acc: 0.6538\n",
            "Epoch 10/100\n",
            "27/26 [===============================] - 191s 7s/step - loss: 6.7448 - acc: 0.4571 - val_loss: 5.1612 - val_acc: 0.5385\n",
            "Epoch 11/100\n",
            "27/26 [===============================] - 192s 7s/step - loss: 6.5854 - acc: 0.4815 - val_loss: 3.0670 - val_acc: 0.6923\n",
            "Epoch 12/100\n",
            "27/26 [===============================] - 193s 7s/step - loss: 6.0063 - acc: 0.4896 - val_loss: 2.5986 - val_acc: 0.6795\n",
            "Epoch 13/100\n",
            "27/26 [===============================] - 192s 7s/step - loss: 5.4867 - acc: 0.5359 - val_loss: 2.9295 - val_acc: 0.7051\n",
            "Epoch 14/100\n",
            "27/26 [===============================] - 192s 7s/step - loss: 4.7740 - acc: 0.5791 - val_loss: 5.0946 - val_acc: 0.4744\n",
            "Epoch 15/100\n",
            "27/26 [===============================] - 190s 7s/step - loss: 5.1072 - acc: 0.5484 - val_loss: 1.3622 - val_acc: 0.7949\n",
            "Epoch 16/100\n",
            "27/26 [===============================] - 191s 7s/step - loss: 4.6855 - acc: 0.5603 - val_loss: 3.0968 - val_acc: 0.6410\n",
            "Epoch 17/100\n",
            "27/26 [===============================] - 193s 7s/step - loss: 4.6615 - acc: 0.5640 - val_loss: 1.5111 - val_acc: 0.7308\n",
            "Epoch 18/100\n",
            "27/26 [===============================] - 191s 7s/step - loss: 3.9364 - acc: 0.6112 - val_loss: 2.4279 - val_acc: 0.6795\n",
            "Epoch 19/100\n",
            "27/26 [===============================] - 190s 7s/step - loss: 3.8827 - acc: 0.5765 - val_loss: 1.7688 - val_acc: 0.7564\n",
            "Epoch 20/100\n",
            "27/26 [===============================] - 189s 7s/step - loss: 4.1016 - acc: 0.6191 - val_loss: 1.5294 - val_acc: 0.7821\n",
            "Epoch 21/100\n",
            "27/26 [===============================] - 191s 7s/step - loss: 3.2953 - acc: 0.6370 - val_loss: 2.3652 - val_acc: 0.6795\n",
            "Epoch 22/100\n",
            "27/26 [===============================] - 190s 7s/step - loss: 3.7321 - acc: 0.6338 - val_loss: 1.6012 - val_acc: 0.7308\n",
            "Epoch 23/100\n",
            "27/26 [===============================] - 188s 7s/step - loss: 3.1472 - acc: 0.6492 - val_loss: 1.4361 - val_acc: 0.7564\n",
            "Epoch 24/100\n",
            "27/26 [===============================] - 190s 7s/step - loss: 2.8689 - acc: 0.6486 - val_loss: 1.6545 - val_acc: 0.7436\n",
            "Epoch 25/100\n",
            "27/26 [===============================] - 189s 7s/step - loss: 3.0765 - acc: 0.6495 - val_loss: 1.0777 - val_acc: 0.7308\n",
            "Epoch 26/100\n",
            "27/26 [===============================] - 191s 7s/step - loss: 2.5538 - acc: 0.6851 - val_loss: 0.9975 - val_acc: 0.8077\n",
            "Epoch 27/100\n",
            "27/26 [===============================] - 190s 7s/step - loss: 2.5003 - acc: 0.6897 - val_loss: 1.0247 - val_acc: 0.7564\n",
            "Epoch 28/100\n",
            "27/26 [===============================] - 190s 7s/step - loss: 2.3742 - acc: 0.6828 - val_loss: 0.9446 - val_acc: 0.8462\n",
            "Epoch 29/100\n",
            "27/26 [===============================] - 191s 7s/step - loss: 2.1585 - acc: 0.6828 - val_loss: 1.0363 - val_acc: 0.7949\n",
            "Epoch 30/100\n",
            "27/26 [===============================] - 190s 7s/step - loss: 1.8604 - acc: 0.7335 - val_loss: 0.6376 - val_acc: 0.8846\n",
            "Epoch 31/100\n",
            "27/26 [===============================] - 190s 7s/step - loss: 1.6868 - acc: 0.7546 - val_loss: 0.8952 - val_acc: 0.7949\n",
            "Epoch 32/100\n",
            "27/26 [===============================] - 189s 7s/step - loss: 1.8061 - acc: 0.7210 - val_loss: 0.8126 - val_acc: 0.8590\n",
            "Epoch 33/100\n",
            "27/26 [===============================] - 190s 7s/step - loss: 1.4791 - acc: 0.7442 - val_loss: 0.5110 - val_acc: 0.8590\n",
            "Epoch 34/100\n",
            "27/26 [===============================] - 192s 7s/step - loss: 1.7898 - acc: 0.7199 - val_loss: 0.6014 - val_acc: 0.8590\n",
            "Epoch 35/100\n",
            "27/26 [===============================] - 191s 7s/step - loss: 1.3956 - acc: 0.7804 - val_loss: 0.5982 - val_acc: 0.8333\n",
            "Epoch 36/100\n",
            "27/26 [===============================] - 191s 7s/step - loss: 1.4752 - acc: 0.7384 - val_loss: 0.5688 - val_acc: 0.8846\n",
            "Epoch 37/100\n",
            "27/26 [===============================] - 191s 7s/step - loss: 1.2516 - acc: 0.7671 - val_loss: 0.4843 - val_acc: 0.8205\n",
            "Epoch 38/100\n",
            "27/26 [===============================] - 191s 7s/step - loss: 1.1744 - acc: 0.7445 - val_loss: 0.5741 - val_acc: 0.8718\n",
            "Epoch 39/100\n",
            "27/26 [===============================] - 190s 7s/step - loss: 1.1584 - acc: 0.7685 - val_loss: 0.4525 - val_acc: 0.8590\n",
            "Epoch 40/100\n",
            "27/26 [===============================] - 191s 7s/step - loss: 0.9254 - acc: 0.8146 - val_loss: 0.5449 - val_acc: 0.8846\n",
            "Epoch 41/100\n",
            "27/26 [===============================] - 191s 7s/step - loss: 1.0615 - acc: 0.7801 - val_loss: 0.7194 - val_acc: 0.8462\n",
            "Epoch 42/100\n",
            "27/26 [===============================] - 191s 7s/step - loss: 1.1201 - acc: 0.7746 - val_loss: 0.3567 - val_acc: 0.9359\n",
            "Epoch 43/100\n",
            "27/26 [===============================] - 191s 7s/step - loss: 1.0240 - acc: 0.8042 - val_loss: 0.5148 - val_acc: 0.9231\n",
            "Epoch 44/100\n",
            "27/26 [===============================] - 190s 7s/step - loss: 0.8731 - acc: 0.8204 - val_loss: 0.5331 - val_acc: 0.8846\n",
            "Epoch 45/100\n",
            "27/26 [===============================] - 192s 7s/step - loss: 0.9243 - acc: 0.8068 - val_loss: 0.5389 - val_acc: 0.8846\n",
            "Epoch 46/100\n",
            "27/26 [===============================] - 195s 7s/step - loss: 0.7420 - acc: 0.7943 - val_loss: 0.4609 - val_acc: 0.9103\n",
            "Epoch 47/100\n",
            "27/26 [===============================] - 192s 7s/step - loss: 0.8986 - acc: 0.8042 - val_loss: 0.4285 - val_acc: 0.9103\n",
            "Epoch 48/100\n",
            "27/26 [===============================] - 194s 7s/step - loss: 0.8242 - acc: 0.7998 - val_loss: 0.4643 - val_acc: 0.9487\n",
            "Epoch 49/100\n",
            "27/26 [===============================] - 195s 7s/step - loss: 0.7650 - acc: 0.8169 - val_loss: 0.3921 - val_acc: 0.9359\n",
            "Epoch 50/100\n",
            "27/26 [===============================] - 194s 7s/step - loss: 0.6859 - acc: 0.8297 - val_loss: 0.3864 - val_acc: 0.9359\n",
            "Epoch 51/100\n",
            "27/26 [===============================] - 193s 7s/step - loss: 0.6953 - acc: 0.8308 - val_loss: 0.4139 - val_acc: 0.9487\n",
            "Epoch 52/100\n",
            "27/26 [===============================] - 192s 7s/step - loss: 0.6753 - acc: 0.8239 - val_loss: 0.4581 - val_acc: 0.9231\n",
            "Epoch 53/100\n",
            "27/26 [===============================] - 191s 7s/step - loss: 0.7107 - acc: 0.8126 - val_loss: 0.5194 - val_acc: 0.8974\n",
            "Epoch 54/100\n",
            "27/26 [===============================] - 190s 7s/step - loss: 0.6862 - acc: 0.8143 - val_loss: 0.5258 - val_acc: 0.8974\n",
            "Epoch 55/100\n",
            "27/26 [===============================] - 192s 7s/step - loss: 0.6966 - acc: 0.8195 - val_loss: 0.5290 - val_acc: 0.9231\n",
            "Epoch 56/100\n",
            "27/26 [===============================] - 193s 7s/step - loss: 0.6116 - acc: 0.8436 - val_loss: 0.4546 - val_acc: 0.9231\n",
            "Epoch 57/100\n",
            "27/26 [===============================] - 192s 7s/step - loss: 0.6134 - acc: 0.8404 - val_loss: 0.4002 - val_acc: 0.9487\n",
            "Epoch 58/100\n",
            "27/26 [===============================] - 190s 7s/step - loss: 0.5840 - acc: 0.8436 - val_loss: 0.4398 - val_acc: 0.9103\n",
            "Epoch 59/100\n",
            "27/26 [===============================] - 189s 7s/step - loss: 0.6115 - acc: 0.8470 - val_loss: 0.4365 - val_acc: 0.9487\n",
            "Epoch 60/100\n",
            "27/26 [===============================] - 191s 7s/step - loss: 0.6045 - acc: 0.8381 - val_loss: 0.4623 - val_acc: 0.9103\n",
            "Epoch 61/100\n",
            "27/26 [===============================] - 193s 7s/step - loss: 0.5507 - acc: 0.8531 - val_loss: 0.3559 - val_acc: 0.9487\n",
            "Epoch 62/100\n",
            "27/26 [===============================] - 192s 7s/step - loss: 0.5915 - acc: 0.8404 - val_loss: 0.5899 - val_acc: 0.8846\n",
            "Epoch 63/100\n",
            "27/26 [===============================] - 191s 7s/step - loss: 0.6398 - acc: 0.8424 - val_loss: 0.5418 - val_acc: 0.8974\n",
            "Epoch 64/100\n",
            "27/26 [===============================] - 192s 7s/step - loss: 0.5759 - acc: 0.8520 - val_loss: 0.5279 - val_acc: 0.8974\n",
            "Epoch 65/100\n",
            "27/26 [===============================] - 193s 7s/step - loss: 0.5997 - acc: 0.8392 - val_loss: 0.4734 - val_acc: 0.9103\n",
            "Epoch 66/100\n",
            "27/26 [===============================] - 190s 7s/step - loss: 0.6385 - acc: 0.8323 - val_loss: 0.3555 - val_acc: 0.9231\n",
            "Epoch 67/100\n",
            "27/26 [===============================] - 191s 7s/step - loss: 0.6395 - acc: 0.8294 - val_loss: 0.3864 - val_acc: 0.9231\n",
            "Epoch 68/100\n",
            "27/26 [===============================] - 190s 7s/step - loss: 0.6135 - acc: 0.8508 - val_loss: 0.3733 - val_acc: 0.9359\n",
            "Epoch 69/100\n",
            "27/26 [===============================] - 192s 7s/step - loss: 0.6530 - acc: 0.8384 - val_loss: 0.4023 - val_acc: 0.9359\n",
            "Epoch 70/100\n",
            "27/26 [===============================] - 193s 7s/step - loss: 0.6192 - acc: 0.8520 - val_loss: 0.2918 - val_acc: 0.9487\n",
            "Epoch 71/100\n",
            "27/26 [===============================] - 195s 7s/step - loss: 0.5919 - acc: 0.8375 - val_loss: 0.8192 - val_acc: 0.8462\n",
            "Epoch 72/100\n",
            "27/26 [===============================] - 194s 7s/step - loss: 0.7087 - acc: 0.8459 - val_loss: 0.6506 - val_acc: 0.8718\n",
            "Epoch 73/100\n",
            "27/26 [===============================] - 195s 7s/step - loss: 0.7746 - acc: 0.8407 - val_loss: 0.6586 - val_acc: 0.8590\n",
            "Epoch 74/100\n",
            "27/26 [===============================] - 194s 7s/step - loss: 0.5588 - acc: 0.8621 - val_loss: 0.4982 - val_acc: 0.9103\n",
            "Epoch 75/100\n",
            "27/26 [===============================] - 194s 7s/step - loss: 0.4786 - acc: 0.8763 - val_loss: 0.5268 - val_acc: 0.8846\n",
            "Epoch 76/100\n",
            "27/26 [===============================] - 194s 7s/step - loss: 0.7094 - acc: 0.8303 - val_loss: 0.2908 - val_acc: 0.9487\n",
            "Epoch 77/100\n",
            "27/26 [===============================] - 194s 7s/step - loss: 0.4717 - acc: 0.8598 - val_loss: 0.3509 - val_acc: 0.9487\n",
            "Epoch 78/100\n",
            "27/26 [===============================] - 191s 7s/step - loss: 0.5267 - acc: 0.8531 - val_loss: 0.3766 - val_acc: 0.9231\n",
            "Epoch 79/100\n",
            "27/26 [===============================] - 192s 7s/step - loss: 0.5123 - acc: 0.8633 - val_loss: 0.4142 - val_acc: 0.9231\n",
            "Epoch 80/100\n",
            "27/26 [===============================] - 192s 7s/step - loss: 0.4953 - acc: 0.8500 - val_loss: 0.6337 - val_acc: 0.8974\n",
            "Epoch 81/100\n",
            "27/26 [===============================] - 192s 7s/step - loss: 0.5612 - acc: 0.8557 - val_loss: 0.3243 - val_acc: 0.9231\n",
            "Epoch 82/100\n",
            "27/26 [===============================] - 191s 7s/step - loss: 0.5645 - acc: 0.8543 - val_loss: 0.3087 - val_acc: 0.9231\n",
            "Epoch 83/100\n",
            "27/26 [===============================] - 192s 7s/step - loss: 0.5348 - acc: 0.8705 - val_loss: 0.2996 - val_acc: 0.9359\n",
            "Epoch 84/100\n",
            "27/26 [===============================] - 192s 7s/step - loss: 0.4643 - acc: 0.8853 - val_loss: 0.4163 - val_acc: 0.9231\n",
            "Epoch 85/100\n",
            "27/26 [===============================] - 190s 7s/step - loss: 0.4802 - acc: 0.8760 - val_loss: 0.3702 - val_acc: 0.9359\n",
            "Epoch 86/100\n",
            "27/26 [===============================] - 191s 7s/step - loss: 0.4671 - acc: 0.8876 - val_loss: 0.3382 - val_acc: 0.9487\n",
            "Epoch 87/100\n",
            "27/26 [===============================] - 194s 7s/step - loss: 0.3933 - acc: 0.8876 - val_loss: 0.2999 - val_acc: 0.9487\n",
            "Epoch 88/100\n",
            "27/26 [===============================] - 192s 7s/step - loss: 0.3962 - acc: 0.8934 - val_loss: 0.3116 - val_acc: 0.9487\n",
            "Epoch 89/100\n",
            "27/26 [===============================] - 191s 7s/step - loss: 0.3548 - acc: 0.8945 - val_loss: 0.3816 - val_acc: 0.9487\n",
            "Epoch 90/100\n",
            "27/26 [===============================] - 191s 7s/step - loss: 0.3661 - acc: 0.8948 - val_loss: 0.3208 - val_acc: 0.9359\n",
            "Epoch 91/100\n",
            "27/26 [===============================] - 191s 7s/step - loss: 0.4537 - acc: 0.8798 - val_loss: 0.3766 - val_acc: 0.9103\n",
            "Epoch 92/100\n",
            "27/26 [===============================] - 187s 7s/step - loss: 0.4004 - acc: 0.8841 - val_loss: 0.3907 - val_acc: 0.9487\n",
            "Epoch 93/100\n",
            "27/26 [===============================] - 185s 7s/step - loss: 0.3657 - acc: 0.9003 - val_loss: 0.4662 - val_acc: 0.8846\n",
            "Epoch 94/100\n",
            "27/26 [===============================] - 185s 7s/step - loss: 0.3630 - acc: 0.9027 - val_loss: 0.4091 - val_acc: 0.9231\n",
            "Epoch 95/100\n",
            "27/26 [===============================] - 183s 7s/step - loss: 0.3396 - acc: 0.9027 - val_loss: 0.4162 - val_acc: 0.9359\n",
            "Epoch 96/100\n",
            "27/26 [===============================] - 181s 7s/step - loss: 0.3019 - acc: 0.8983 - val_loss: 0.4123 - val_acc: 0.9487\n",
            "Epoch 97/100\n",
            "27/26 [===============================] - 181s 7s/step - loss: 0.4113 - acc: 0.8948 - val_loss: 0.3992 - val_acc: 0.9487\n",
            "Epoch 98/100\n",
            "27/26 [===============================] - 181s 7s/step - loss: 0.4003 - acc: 0.8937 - val_loss: 0.4186 - val_acc: 0.9359\n",
            "Epoch 99/100\n",
            "27/26 [===============================] - 176s 7s/step - loss: 0.3456 - acc: 0.8891 - val_loss: 0.3417 - val_acc: 0.9615\n",
            "Epoch 100/100\n",
            "27/26 [===============================] - 178s 7s/step - loss: 0.3179 - acc: 0.9154 - val_loss: 0.3693 - val_acc: 0.9615\n"
          ],
          "name": "stdout"
        }
      ]
    },
    {
      "cell_type": "code",
      "metadata": {
        "id": "Ku3nBNdpqB__",
        "colab_type": "code",
        "colab": {}
      },
      "source": [
        "model.save('leaf_classification.h5')"
      ],
      "execution_count": 0,
      "outputs": []
    },
    {
      "cell_type": "code",
      "metadata": {
        "id": "FIiSEtnf-L2P",
        "colab_type": "code",
        "outputId": "71fbebe2-1272-4a5a-d478-2293cf6f5d03",
        "colab": {
          "base_uri": "https://localhost:8080/",
          "height": 707
        }
      },
      "source": [
        "acc = history.history['acc']\n",
        "val_acc = history.history['val_acc']\n",
        "loss = history.history['loss']\n",
        "val_loss = history.history['val_loss']\n",
        " \n",
        "epochs = range(len(acc))\n",
        " \n",
        "plt.plot(epochs, acc, 'b', label='Training acc')\n",
        "plt.plot(epochs, val_acc, 'r', label='Validation acc')\n",
        "plt.title('Training and validation accuracy')\n",
        "plt.legend()\n",
        " \n",
        "plt.figure()\n",
        " \n",
        "plt.plot(epochs, loss, 'b', label='Training loss')\n",
        "plt.plot(epochs, val_loss, 'r', label='Validation loss')\n",
        "plt.title('Training and validation loss')\n",
        "plt.legend()\n",
        " \n",
        "plt.show()"
      ],
      "execution_count": 0,
      "outputs": [
        {
          "output_type": "display_data",
          "data": {
            "image/png": "[encoded data removed]",
            "text/plain": [
              "<Figure size 576x396 with 1 Axes>"
            ]
          },
          "metadata": {
            "tags": []
          }
        },
        {
          "output_type": "display_data",
          "data": {
            "image/png": "[encoded data removed]",
            "text/plain": [
              "<Figure size 576x396 with 1 Axes>"
            ]
          },
          "metadata": {
            "tags": []
          }
        }
      ]
    },
    {
      "cell_type": "code",
      "metadata": {
        "id": "W-yTqCVc47JJ",
        "colab_type": "code",
        "colab": {}
      },
      "source": [
        "#model.save_weights('model_saved.h5')"
      ],
      "execution_count": 0,
      "outputs": []
    },
    {
      "cell_type": "code",
      "metadata": {
        "id": "oIB721C_8acm",
        "colab_type": "code",
        "outputId": "d5508835-ed98-4cb4-f03f-cac67d2e5fb2",
        "colab": {
          "base_uri": "https://localhost:8080/",
          "height": 88
        }
      },
      "source": [
        "model = load_model(\"gdrive/My Drive/Colab Notebooks/Model/Leaf Classification.h5\")\n"
      ],
      "execution_count": 0,
      "outputs": [
        {
          "output_type": "stream",
          "text": [
            "WARNING:tensorflow:From /usr/local/lib/python3.6/dist-packages/tensorflow/python/ops/math_ops.py:3066: to_int32 (from tensorflow.python.ops.math_ops) is deprecated and will be removed in a future version.\n",
            "Instructions for updating:\n",
            "Use tf.cast instead.\n"
          ],
          "name": "stdout"
        }
      ]
    },
    {
      "cell_type": "code",
      "metadata": {
        "id": "HTzn5iQu1WWt",
        "colab_type": "code",
        "outputId": "3714f57c-bd79-41d9-ecaa-9ee671fd8438",
        "colab": {
          "base_uri": "https://localhost:8080/",
          "height": 204
        }
      },
      "source": [
        "from keras.preprocessing.image import load_img\n",
        "from keras.preprocessing.image import img_to_array\n",
        "from keras.applications.vgg16 import preprocess_input\n",
        "from keras.applications.vgg16 import decode_predictions\n",
        "import os\n",
        "import heapq\n",
        "\n",
        "model.compile(loss='categorical_crossentropy',\n",
        "          optimizer=SGD(lr=1e-3),\n",
        "          metrics=['accuracy'])\n",
        "\n",
        "\n",
        "# def correct_path_function(path_name):\n",
        "#     b =path_name.split(\"/\")\n",
        "#     del b[0]\n",
        "#     delimiter = \"/\"\n",
        "#     path = delimiter.join(b)\n",
        "#     return path\n",
        "  \n",
        "# correct_path_function(\"content/gdrive/My Drive/GoogleColab/Project/Data/Check\")\n",
        "# path_of_test_files = path\n",
        "# print(path_of_test_files)\n",
        "  \n",
        "\n",
        "\n",
        "path_of_test_files = \"gdrive/My Drive/Colab Notebooks/Data/Plant Classification/Check Flower_last\"  \n",
        "\n",
        "list_of_test_images = os.listdir(path_of_test_files)\n",
        "\n",
        "for i in list_of_test_images: \n",
        "  image_name, image_ext = os.path.splitext(i)\n",
        "  img_path = os.path.join(path_of_test_files, i)\n",
        "  img = load_img(img_path, target_size=(224, 224))\n",
        "  x = img_to_array(img)\n",
        "  x = np.expand_dims(x, axis=0)\n",
        "  x = preprocess_input(x)\n",
        "  \n",
        "  preds = model.predict(x)\n",
        "  bruh = preds.flatten()\n",
        "  predss= preds.tolist()\n",
        "  duh = heapq.nlargest(3, range(len(bruh)), bruh.take) \n",
        "  y = os.listdir(\"Final Data/Test\")\n",
        "  y.sort()\n",
        "  print(\"Actual image: {}.....Predicted image: {},{}\".format(image_name,y[duh[0]],y[duh[1]]))\n",
        "  \n",
        "  \n",
        "#   preds = model.predict(x)  \n",
        "#   #print(preds)\n",
        "#   predicted_classes = np.argmax(preds,axis=1)\n",
        "#   #print(predicted_classes)\n",
        "#   y = os.listdir(\"Final Data/Test\")\n",
        "#   y.sort()\n",
        "#   class_ = predicted_classes.tolist()\n",
        "#   print(\"Actual image: {}.....Predicted image: {}\".format(image_name,y[class_[0]]))\n",
        "#   print(y[class_[0]])\n",
        "#   # decode the results into a list of tuples (class, description, probability)\n",
        "#   # (one such list for each sample in the batch)\n",
        "#   #print('Predicted:', decode_predictions(preds, top=3))\n",
        "\n"
      ],
      "execution_count": 0,
      "outputs": [
        {
          "output_type": "stream",
          "text": [
            "Actual image: Adusi.....Predicted image: Adusi,Tulsi\n",
            "Actual image: Money Plant.....Predicted image: Syngosium,Money Plant\n",
            "Actual image: Asopalav.....Predicted image: Asopalav,Papaya\n",
            "Actual image: Geranium.....Predicted image: Geranium,Syngosium\n",
            "Actual image: Papaya.....Predicted image: Papaya,Tulsi\n",
            "Actual image: Syngonium.....Predicted image: Syngosium,Geranium\n",
            "Actual image: Palm.....Predicted image: Palm,Tulsi\n",
            "Actual image: Tulsi.....Predicted image: Tulsi,Geranium\n",
            "Actual image: Spyder Dev.....Predicted image: Spyder,Rapish\n",
            "Actual image: Spyder Akshat.....Predicted image: Spyder,Rapish\n",
            "Actual image: papaya Akshat.....Predicted image: Tulsi,Papaya\n"
          ],
          "name": "stdout"
        }
      ]
    },
    {
      "cell_type": "markdown",
      "metadata": {
        "id": "xQI4oONxjmLj",
        "colab_type": "text"
      },
      "source": [
        "# New Section"
      ]
    },
    {
      "cell_type": "markdown",
      "metadata": {
        "id": "8o5dhhZnjmxh",
        "colab_type": "text"
      },
      "source": [
        "# New Section"
      ]
    }
  ]
}